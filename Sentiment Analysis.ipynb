{
 "cells": [
  {
   "cell_type": "code",
   "execution_count": 1,
   "metadata": {},
   "outputs": [],
   "source": [
    "# Import spaCy and load the language library. Remember to use a larger model!\n",
    "import spacy\n",
    "nlp = spacy.load('en_core_web_md')"
   ]
  },
  {
   "cell_type": "code",
   "execution_count": 13,
   "metadata": {},
   "outputs": [
    {
     "name": "stdout",
     "output_type": "stream",
     "text": [
      "[-8.1418e-01  1.7961e-01 -1.3077e-01  2.0003e-01  7.0113e-01 -2.1791e-01\n",
      "  1.0210e-02  5.8848e-02  1.7421e-01  9.8100e-01  7.2672e-02  1.8491e-01\n",
      "  2.0656e-01 -1.9164e-01  3.7744e-02  2.7178e-01 -6.5221e-02  6.0738e-01\n",
      "  5.4958e-01 -3.0459e-01 -9.4270e-01  5.6442e-01  3.7988e-02  1.8620e-01\n",
      " -1.0297e+00  4.9388e-01  3.7009e-01  2.1679e-01  1.7666e-02 -2.2636e-01\n",
      " -6.4883e-01 -1.4714e-01 -8.2849e-02 -1.1974e-01  5.7542e-01  4.2273e-01\n",
      "  2.5722e-01 -4.5424e-01  1.6442e-01  3.6574e-01 -1.2378e-03  2.9398e-01\n",
      " -9.0990e-01  6.9998e-02 -1.7264e-01 -2.2174e-01 -3.5188e-01  5.1656e-01\n",
      " -1.7427e-01  4.8672e-01 -3.0710e-01  9.3294e-02 -1.9338e-01 -2.7818e-01\n",
      " -3.3681e-02  2.4289e-01  3.5252e-01 -3.1960e-02 -2.8061e-01  1.7805e-01\n",
      " -5.4407e-01 -1.0195e-01  8.5289e-01  4.2909e-01 -2.3787e-01 -6.7805e-01\n",
      "  1.7429e-01 -7.8244e-01  1.8867e-01  6.0230e-01 -4.0031e-02 -3.7146e-02\n",
      "  2.2272e-01 -2.2010e-01 -1.2256e-01 -3.6836e-01  4.4562e-01  4.2845e-01\n",
      " -1.9173e-01 -2.0960e+00  2.0232e-01  7.4563e-01  1.4365e-01 -4.5244e-01\n",
      " -2.2811e-01  2.5805e-03  1.3473e+00  7.0624e-01  3.9595e-01  2.7738e-02\n",
      "  4.7573e-01  5.7834e-02 -6.2836e-01 -2.8571e-01 -9.3797e-02 -6.5072e-01\n",
      " -5.4592e-01  1.6539e-01 -4.3948e-01  1.9144e-01 -1.2793e-01  6.0604e-02\n",
      " -4.1254e-02 -1.9449e-01 -2.5576e-01 -1.0351e+00 -2.6954e-01  5.1789e-01\n",
      " -2.1110e-01 -3.8410e-01  3.0224e-01 -2.8321e-01 -3.6710e-02  7.0060e-02\n",
      "  1.4983e-01  2.1463e-01  7.8263e-01 -7.1693e-02  5.0674e-01  5.3664e-01\n",
      "  5.8210e-02 -4.9220e-01  4.4855e-01  5.2375e-02 -1.5186e-01  1.6894e-05\n",
      " -5.9572e-01 -2.5760e-01 -7.4128e-02 -1.9391e-01  4.3439e-02 -1.2453e-01\n",
      " -6.9425e-01  4.4860e-01  3.1058e-02 -7.7017e-02 -1.6727e-01 -5.1627e-01\n",
      " -4.4212e-01 -1.6550e-01 -1.3864e+00 -7.5119e-02 -1.9716e-01  3.8960e-02\n",
      "  8.2355e-01 -3.5240e-01 -2.1633e-02 -2.7487e-02  3.2545e-01 -3.0772e-02\n",
      " -1.7588e-01  2.7268e-01  4.1785e-01 -6.0698e-01 -2.1443e-01  6.6397e-01\n",
      " -7.9215e-01  2.4962e-01  1.2587e-01 -3.1969e-01 -2.2674e-01 -1.7895e-02\n",
      " -7.7898e-01 -1.6692e-01  3.9654e-01  3.1509e-01  3.2324e-01  1.1904e-01\n",
      "  1.7457e-01 -1.6429e-01 -4.5807e-01  8.9890e-02  1.3902e-01 -2.5713e-01\n",
      " -4.8662e-01  2.1975e-02 -2.5878e-01 -9.1782e-02  7.6493e-01  2.5758e-01\n",
      " -1.1588e-01 -1.2913e-01  5.5848e-02 -5.2004e-02 -8.4299e-02  6.3243e-01\n",
      "  5.2111e-01  3.8246e-01  1.6680e-01 -5.3048e-01 -1.0500e-01 -4.2471e-01\n",
      "  1.3916e-02  2.5836e-01  1.8967e-01 -2.7957e-01  3.9546e-01 -2.1769e-01\n",
      "  1.3096e-01  2.0495e-01 -2.3664e-02  4.0369e-01 -3.4538e-01  1.5076e-01\n",
      "  2.4291e-01  6.3297e-01  3.4463e-02 -3.8795e-01 -7.3564e-01  1.1279e-01\n",
      "  2.8980e-01 -5.9194e-02 -1.5792e-01 -4.9509e-01 -5.0992e-01 -5.0949e-01\n",
      " -7.7293e-01  8.2894e-02  8.3469e-02  4.0269e-01  2.1445e-02 -1.0982e-01\n",
      " -1.8876e-01  2.4337e-02  3.6303e-02  6.6022e-01  6.4053e-01  6.0344e-01\n",
      "  2.9445e-01  6.9206e-01  8.0497e-02  3.3211e-01 -4.8182e-02  3.7137e-01\n",
      "  1.3917e-01 -6.9298e-02 -4.9308e-01  2.7751e-01  3.6653e-02 -7.1722e-01\n",
      " -5.1241e-01 -4.9591e-01 -1.9933e-01  4.9062e-01 -1.3276e-01  2.5523e-01\n",
      " -2.2382e-01 -6.3161e-01  1.7519e-02 -4.1139e-01 -5.8266e-01  1.3784e-01\n",
      "  1.6106e-02  1.6922e-01  2.7113e-01 -1.6573e-01  4.8590e-01  5.7193e-01\n",
      "  4.3283e-01  6.8092e-01  3.0792e-01 -4.5869e-01  7.7456e-02  6.7264e-01\n",
      " -4.2252e-01  1.0677e+00  6.8987e-02  1.4728e-02 -4.7752e-01 -1.9689e-01\n",
      "  5.4434e-01  3.8416e-02  4.6362e-01  1.7539e-01 -1.5185e-01 -5.0320e-01\n",
      "  2.4330e-01 -4.2974e-01 -3.1176e-01  1.0029e-01  7.9574e-02 -2.8332e-01\n",
      " -2.8443e-01  2.5053e-01  8.7346e-02  1.5995e-01 -7.4388e-01  4.6096e-02\n",
      "  6.1235e-02  1.7814e-01  7.7934e-01 -5.8680e-02 -3.6537e-01 -6.5212e-01\n",
      " -1.1524e-01  1.9311e-01  2.5425e-01  3.6987e-01  8.0092e-02 -8.1680e-01]\n",
      "300\n",
      "<class 'spacy.vocab.Vocab'>\n"
     ]
    }
   ],
   "source": [
    "# Choose the words you wish to compare, and obtain their vectors\n",
    "word1 = nlp.vocab['calf'].vector\n",
    "word2 = nlp.vocab['elbow'].vector\n",
    "word3 = nlp.vocab['knee'].vector\n",
    "print(word1)\n",
    "print(len(word2))\n",
    "print(type(nlp.vocab))"
   ]
  },
  {
   "cell_type": "code",
   "execution_count": 3,
   "metadata": {},
   "outputs": [],
   "source": [
    "# Import spatial and define a cosine_similarity function\n",
    "from scipy import spatial\n",
    "\n",
    "cosine_similarity = lambda x, y: 1 - spatial.distance.cosine(x, y)"
   ]
  },
  {
   "cell_type": "code",
   "execution_count": 4,
   "metadata": {},
   "outputs": [],
   "source": [
    "# Write an expression for vector arithmetic\n",
    "# For example: new_vector = word1 - word2 + word3\n",
    "new_vector = word1 - word2 + word3"
   ]
  },
  {
   "cell_type": "code",
   "execution_count": 5,
   "metadata": {},
   "outputs": [
    {
     "name": "stdout",
     "output_type": "stream",
     "text": [
      "['abductor', 'calf', 'ankle', 'sprained', 'achilles', 'spraining', 'collarbone', 'sprain', 'fibula', 'plantar']\n"
     ]
    }
   ],
   "source": [
    "# List the top ten closest vectors in the vocabulary to the result of the expression above\n",
    "computed_similarities = []\n",
    "\n",
    "for word in nlp.vocab:\n",
    "    if word.has_vector:\n",
    "        if word.is_lower:\n",
    "            if word.is_alpha:\n",
    "                similarity = cosine_similarity(new_vector, word.vector)\n",
    "                computed_similarities.append((word, similarity))\n",
    "\n",
    "computed_similarities = sorted(computed_similarities, key=lambda item: -item[1])\n",
    "\n",
    "print([w[0].text for w in computed_similarities[:10]])"
   ]
  },
  {
   "cell_type": "code",
   "execution_count": 6,
   "metadata": {},
   "outputs": [],
   "source": [
    "def vector_math(a,b,c):\n",
    "    new_vector = nlp.vocab[a].vector - nlp.vocab[b].vector + nlp.vocab[c].vector\n",
    "    computed_similarities = []\n",
    "\n",
    "    for word in nlp.vocab:\n",
    "        if word.has_vector:\n",
    "            if word.is_lower:\n",
    "                if word.is_alpha:\n",
    "                    similarity = cosine_similarity(new_vector, word.vector)\n",
    "                    computed_similarities.append((word, similarity))\n",
    "\n",
    "    computed_similarities = sorted(computed_similarities, key=lambda item: -item[1])\n",
    "\n",
    "    return [w[0].text for w in computed_similarities[:10]]"
   ]
  },
  {
   "cell_type": "code",
   "execution_count": 7,
   "metadata": {},
   "outputs": [
    {
     "data": {
      "text/plain": [
       "['king',\n",
       " 'queen',\n",
       " 'commoner',\n",
       " 'highness',\n",
       " 'prince',\n",
       " 'sultan',\n",
       " 'maharajas',\n",
       " 'princes',\n",
       " 'kumbia',\n",
       " 'kings']"
      ]
     },
     "execution_count": 7,
     "metadata": {},
     "output_type": "execute_result"
    }
   ],
   "source": [
    "vector_math('king','man','woman')"
   ]
  },
  {
   "cell_type": "code",
   "execution_count": 8,
   "metadata": {},
   "outputs": [],
   "source": [
    "# Import SentimentIntensityAnalyzer and create an sid object\n",
    "from nltk.sentiment.vader import SentimentIntensityAnalyzer\n",
    "\n",
    "sid = SentimentIntensityAnalyzer()"
   ]
  },
  {
   "cell_type": "code",
   "execution_count": 9,
   "metadata": {},
   "outputs": [],
   "source": [
    "# Write a review as one continuous string (multiple sentences are ok)\n",
    "review = \"I stayed at Hotel California for three nights in November 2019. What an amazing hotel!\""
   ]
  },
  {
   "cell_type": "code",
   "execution_count": 10,
   "metadata": {},
   "outputs": [
    {
     "data": {
      "text/plain": [
       "{'neg': 0.0, 'neu': 0.761, 'pos': 0.239, 'compound': 0.6239}"
      ]
     },
     "execution_count": 10,
     "metadata": {},
     "output_type": "execute_result"
    }
   ],
   "source": [
    "# Obtain the sid scores for your review\n",
    "sid.polarity_scores(review)"
   ]
  },
  {
   "cell_type": "code",
   "execution_count": 11,
   "metadata": {},
   "outputs": [],
   "source": [
    "def review_rating(string):\n",
    "    scores = sid.polarity_scores(string)\n",
    "    if scores['compound'] == 0:\n",
    "        return 'Neutral'\n",
    "    elif scores['compound'] > 0:\n",
    "        return 'Positive'\n",
    "    else:\n",
    "        return 'Negative'"
   ]
  },
  {
   "cell_type": "code",
   "execution_count": 12,
   "metadata": {},
   "outputs": [
    {
     "data": {
      "text/plain": [
       "'Positive'"
      ]
     },
     "execution_count": 12,
     "metadata": {},
     "output_type": "execute_result"
    }
   ],
   "source": [
    "# Test the function on your review above:\n",
    "review_rating(review)"
   ]
  },
  {
   "cell_type": "code",
   "execution_count": null,
   "metadata": {},
   "outputs": [],
   "source": []
  }
 ],
 "metadata": {
  "kernelspec": {
   "display_name": "Python 3",
   "language": "python",
   "name": "python3"
  },
  "language_info": {
   "codemirror_mode": {
    "name": "ipython",
    "version": 3
   },
   "file_extension": ".py",
   "mimetype": "text/x-python",
   "name": "python",
   "nbconvert_exporter": "python",
   "pygments_lexer": "ipython3",
   "version": "3.7.1"
  }
 },
 "nbformat": 4,
 "nbformat_minor": 2
}
